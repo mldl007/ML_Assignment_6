{
 "cells": [
  {
   "cell_type": "markdown",
   "id": "b2a3d83b-9b14-4f3c-89f2-0ea425d020fc",
   "metadata": {},
   "source": [
    "<h4>1. In the sense of machine learning, what is a model? What is the best way to train a model?"
   ]
  },
  {
   "cell_type": "markdown",
   "id": "035a90ba-601d-4b31-b36a-7c503e156aa1",
   "metadata": {},
   "source": [
    "A model is a mathematical function that represents/captures the pattern between independent features and target variable. The best way to train a model is to use a dataset that is large and represents the data in real time without any sampling bais."
   ]
  },
  {
   "cell_type": "markdown",
   "id": "ed2bb9c0-f6ba-469e-8732-d33d4d206d95",
   "metadata": {},
   "source": [
    "<h4>2. In the sense of machine learning, explain the &quot;No Free Lunch&quot; theorem."
   ]
  },
  {
   "cell_type": "markdown",
   "id": "4b8ff982-6089-4a64-b479-186101c3cec9",
   "metadata": {},
   "source": [
    "No free lunch theorem states that there is no single best model for a problem. The best model must be identified by experimenting with various models."
   ]
  },
  {
   "cell_type": "markdown",
   "id": "e7ece21b-ee02-4b50-9be5-f7dbbb767e1d",
   "metadata": {},
   "source": [
    "<h4>3. Describe the K-fold cross-validation mechanism in detail."
   ]
  },
  {
   "cell_type": "markdown",
   "id": "f976718d-9167-4214-b176-112b7b229ecb",
   "metadata": {},
   "source": [
    "K-fold cross-validation technique splits the training data into k folds and trains the model on k-1 folds and evaluates the model perfoemance on the remaining 1 fold. The process is repeated unti the model is trained and evaluated on all k folds "
   ]
  },
  {
   "cell_type": "markdown",
   "id": "c878501c-a534-41e8-976d-d00acb77e266",
   "metadata": {},
   "source": [
    "<h4>4. Describe the bootstrap sampling method. What is the aim of it?"
   ]
  },
  {
   "cell_type": "markdown",
   "id": "feca42ec-344b-448d-914d-9ecdd7a6ac61",
   "metadata": {},
   "source": [
    "bootstrap sampling is a sampling technique where samples are drawn with replacement from an existing sample. This is used to estimate population parameters, confidence intervals without using statistical methods."
   ]
  },
  {
   "cell_type": "markdown",
   "id": "0a6c860c-25c6-4872-8b63-40295e5df745",
   "metadata": {},
   "source": [
    "<h4>5. What is the significance of calculating the Kappa value for a classification model? Demonstrate\n",
    "how to measure the Kappa value of a classification model using a sample collection of results."
   ]
  },
  {
   "cell_type": "markdown",
   "id": "d52bfaa2-413a-4456-8d08-5681394e1da9",
   "metadata": {},
   "source": [
    "The kappa statistic is frequently used to test interrater reliability. The importance of rater reliability lies in the fact that it represents the extent to which the data collected in the study are correct representations of the variables measured."
   ]
  },
  {
   "cell_type": "markdown",
   "id": "628b0f5d-3ee9-48b9-bca1-ebd2b17636ec",
   "metadata": {},
   "source": [
    "<h4>6. Describe the model ensemble method. In machine learning, what part does it play?"
   ]
  },
  {
   "cell_type": "markdown",
   "id": "047d4bdd-c991-4a4d-87ff-11a2b714dc3c",
   "metadata": {},
   "source": [
    "Ensemble method is combining the predictions of multiple models by using averaging method (for regression) or voting method (for classification)"
   ]
  },
  {
   "cell_type": "markdown",
   "id": "acbc6eb8-e908-4a28-93d4-ee74fbde34f1",
   "metadata": {},
   "source": [
    "<h4>7. What is a descriptive model&#39;s main purpose? Give examples of real-world problems that\n",
    "descriptive models were used to solve."
   ]
  },
  {
   "cell_type": "markdown",
   "id": "61a7ad7d-986b-4c59-9d6f-2284d4c6f6a4",
   "metadata": {},
   "source": [
    "A descriptive model describes a system or other entity and its relationship to its environment. It is generally used to help specify and/or understand what the system is, what it does, and how it does it."
   ]
  },
  {
   "cell_type": "markdown",
   "id": "51493b97-324b-466a-90ff-72d23ae31ea9",
   "metadata": {},
   "source": [
    "<h4>8. Describe how to evaluate a linear regression model."
   ]
  },
  {
   "cell_type": "markdown",
   "id": "bcad9540-cd55-4562-b73e-e62a5b9c5551",
   "metadata": {},
   "source": [
    "Linear regression model is evaluated using metrics like mean absolute error, mean squared error, RMSE, and mean absolute percentage error, etc"
   ]
  },
  {
   "cell_type": "markdown",
   "id": "7feb6f99-6f09-42d4-a23f-a6eb63fed853",
   "metadata": {},
   "source": [
    "<h4>9. Distinguish :"
   ]
  },
  {
   "cell_type": "markdown",
   "id": "0e355d9b-b9b2-42a1-8b55-c28bdf2c7781",
   "metadata": {},
   "source": [
    "1. Descriptive vs. predictive models: Descriptive models are used to identify a system. Predictive models are used to predict an outcome based on data"
   ]
  },
  {
   "cell_type": "markdown",
   "id": "281fe4a1-c317-4c54-a042-6984734bc4bc",
   "metadata": {},
   "source": [
    "2. Underfitting vs. overfitting the model: Underfitting is a situation where training and test score is low. While, overfitting is a situation where training score is high but test score is low."
   ]
  },
  {
   "cell_type": "markdown",
   "id": "e303bd7a-66e0-4fea-87a6-e878da745009",
   "metadata": {},
   "source": [
    "3. Bootstrapping vs. cross-validation: Bootstrapping is a sampling method with replacement. cross-validation is a techinque used to sample training and test set."
   ]
  },
  {
   "cell_type": "markdown",
   "id": "0df0a2b5-945e-4b83-897d-dbb6b6085115",
   "metadata": {},
   "source": [
    "<h4>10. Make quick notes on:"
   ]
  },
  {
   "cell_type": "markdown",
   "id": "a46ca598-79df-43a1-9390-380792022347",
   "metadata": {},
   "source": [
    "1. LOOCV.: It is a k-fold cross validation technique where the model is trained on n-1 samples and evaluated on remaining 1 sample"
   ]
  },
  {
   "cell_type": "markdown",
   "id": "81a9545f-36d7-4334-a91b-1d1b4a94c49e",
   "metadata": {},
   "source": [
    "2. F-measurement: F-measurement is a classification evaluatin method using both precision and recall."
   ]
  },
  {
   "cell_type": "markdown",
   "id": "3e7fef2e-fd5b-4d36-b3df-e933f44c6a07",
   "metadata": {},
   "source": [
    "3. The width of the silhouette: silhouette score is a clustering evaluation technique where the distance between a cluster center with its element sare measured."
   ]
  },
  {
   "cell_type": "markdown",
   "id": "eca3ac8a-f5fa-47b9-98e1-03a641aba7eb",
   "metadata": {},
   "source": [
    "4. Receiver operating characteristic curve: ROC curve is a plot between TPR (sensitivity) and FPR (1-specificity) across various thresholds.  "
   ]
  },
  {
   "cell_type": "code",
   "execution_count": null,
   "id": "98411b79-9df0-4309-ad92-51ce24031161",
   "metadata": {},
   "outputs": [],
   "source": []
  }
 ],
 "metadata": {
  "kernelspec": {
   "display_name": "Python 3 (ipykernel)",
   "language": "python",
   "name": "python3"
  },
  "language_info": {
   "codemirror_mode": {
    "name": "ipython",
    "version": 3
   },
   "file_extension": ".py",
   "mimetype": "text/x-python",
   "name": "python",
   "nbconvert_exporter": "python",
   "pygments_lexer": "ipython3",
   "version": "3.9.13"
  }
 },
 "nbformat": 4,
 "nbformat_minor": 5
}
